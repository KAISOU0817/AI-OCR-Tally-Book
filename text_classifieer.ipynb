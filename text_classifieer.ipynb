{
 "cells": [
  {
   "cell_type": "code",
   "execution_count": 19,
   "metadata": {},
   "outputs": [],
   "source": [
    "import pandas as pd\n",
    "import numpy as np\n",
    "from sklearn.model_selection import train_test_split\n",
    "from sklearn.feature_extraction.text import TfidfVectorizer\n",
    "from janome.tokenizer import Tokenizer\n",
    "from sklearn.preprocessing import StandardScaler, OneHotEncoder\n",
    "from sklearn.compose import ColumnTransformer\n",
    "from sklearn.pipeline import Pipeline\n",
    "from sklearn.metrics import classification_report,roc_curve, auc\n",
    "import lightgbm as lgb\n",
    "import matplotlib.pyplot as plt"
   ]
  },
  {
   "cell_type": "code",
   "execution_count": 24,
   "metadata": {},
   "outputs": [],
   "source": [
    "requests_df = pd.read_csv(\"requests.csv\")\n",
    "subjects_items_df = pd.read_csv(\"subjects_items.csv\")\n",
    "ocr_results_df = pd.read_csv(\"ocr_results.csv\")"
   ]
  },
  {
   "cell_type": "code",
   "execution_count": 25,
   "metadata": {},
   "outputs": [],
   "source": [
    "merged = pd.merge(\n",
    "        requests_df,\n",
    "        ocr_results_df[['id', 'ocr_client_name', 'ocr_payment_amount', 'ocr_document_date']],\n",
    "        left_on='ocr_id',\n",
    "        right_on='id',\n",
    "        suffixes=('', '_ocr')\n",
    "    )"
   ]
  },
  {
   "cell_type": "code",
   "execution_count": 26,
   "metadata": {},
   "outputs": [],
   "source": [
    "df = pd.merge(\n",
    "        merged,\n",
    "        subjects_items_df,\n",
    "        left_on='subject_items_id',\n",
    "        right_on='id',\n",
    "        suffixes=('', '_item')\n",
    "    )"
   ]
  },
  {
   "cell_type": "code",
   "execution_count": 27,
   "metadata": {},
   "outputs": [],
   "source": [
    "final_cols = [\n",
    "    'name',\n",
    "    'ocr_client_name',\n",
    "    'ocr_payment_amount',\n",
    "    'ocr_document_date',\n",
    "    'subject_items_id'\n",
    "    ]\n",
    "df = df[final_cols].copy()"
   ]
  },
  {
   "cell_type": "code",
   "execution_count": 28,
   "metadata": {},
   "outputs": [],
   "source": [
    "# 欠損値のある行を削除\n",
    "df.dropna(subset=['ocr_document_date'], inplace=True)\n",
    "df.dropna(subset=['ocr_client_name'], inplace=True)"
   ]
  },
  {
   "cell_type": "code",
   "execution_count": 29,
   "metadata": {},
   "outputs": [],
   "source": [
    "#数値変換でよく使わあれる正規化というメソッドですが、今回の場合ocr_payment_amountは綺麗な数字になってるため不要\n",
    "# df['ocr_payment_amount'] = pd.to_numeric(\n",
    "#         df['ocr_payment_amount'].astype(str)\n",
    "#           .str.replace(r'[^0-9.]', '', regex=True),\n",
    "#         errors='coerce'\n",
    "#     )\n",
    "# df['ocr_payment_amount'] = df['ocr_payment_amount'].fillna(0)"
   ]
  },
  {
   "cell_type": "code",
   "execution_count": 30,
   "metadata": {},
   "outputs": [],
   "source": [
    "# 日付を何曜日何月分に変換\n",
    "df['ocr_document_date'] = pd.to_datetime(df['ocr_document_date'], errors='coerce')\n",
    "df['dayofweek'] = df['ocr_document_date'].dt.dayofweek\n",
    "df['month'] = df['ocr_document_date'].dt.month"
   ]
  },
  {
   "cell_type": "code",
   "execution_count": 31,
   "metadata": {},
   "outputs": [],
   "source": [
    "# 店舗名を単語ごとに区切る\n",
    "def tokenize_japanese(text):\n",
    "    return [token.surface for token in Tokenizer().tokenize(text)]"
   ]
  },
  {
   "cell_type": "code",
   "execution_count": null,
   "metadata": {
    "scrolled": true
   },
   "outputs": [],
   "source": [
    "results = {}\n",
    "\n",
    "print(\"start\")\n",
    "\n",
    "\n",
    "preprocessor = ColumnTransformer(\n",
    "        transformers=[\n",
    "            ('text', TfidfVectorizer(\n",
    "                tokenizer=tokenize_japanese,\n",
    "                token_pattern=None,\n",
    "                ngram_range=(1, 2),\n",
    "                max_features=5000\n",
    "            ), 'ocr_client_name'),\n",
    "            ('numeric', StandardScaler(), ['ocr_payment_amount']),\n",
    "            ('datetime', OneHotEncoder(), ['dayofweek', 'month'])\n",
    "        ],\n",
    "        remainder='drop'\n",
    "            )\n",
    "    \n",
    "sub_df = df.copy()\n",
    "\n",
    "    \n",
    "X = sub_df[['ocr_client_name', 'ocr_payment_amount', 'dayofweek', 'month']]\n",
    "y = sub_df['subject_items_id']\n",
    "    \n",
    "\n",
    "X_train, X_test, y_train, y_test = train_test_split(X, y, test_size=0.2, random_state=42, stratify=y)\n",
    "\n",
    "\n",
    "    # モデルを作る\n",
    "model = lgb.LGBMClassifier(\n",
    "    random_state=42,\n",
    "    learning_rate=0.05,\n",
    "    objective='multiclass',\n",
    "    min_child_samples=5,\n",
    "    min_split_gain=0.0\n",
    "        )\n",
    "pipe = Pipeline([('preprocessor', preprocessor), ('classifier', model)])\n",
    "pipe.fit(X_train, y_train)\n",
    "    \n",
    "    # 結果を入れ\n",
    "trained_results = {\n",
    "        'pipe': pipe,\n",
    "        'X_test': X_test,\n",
    "        'y_test': y_test,\n",
    "        'sub_df': sub_df\n",
    "        }\n",
    "\n",
    "print(\"\\n finish\")"
   ]
  },
  {
   "cell_type": "code",
   "execution_count": 16,
   "metadata": {
    "scrolled": false
   },
   "outputs": [
    {
     "name": "stdout",
     "output_type": "stream",
     "text": [
      "\n",
      " start\n",
      "\n",
      " finish\n"
     ]
    }
   ],
   "source": [
    "# 評価\n",
    "print(\"\\n start\")\n",
    "\n",
    "for tenant_id, results in trained_results.items():\n",
    "    print(f\"\\nTenant ID: {tenant_id} \")\n",
    "\n",
    "    \n",
    "    pipe   = results['pipe']\n",
    "    X_test = results['X_test']\n",
    "    y_test = results['y_test']\n",
    "    \n",
    "\n",
    "    # 1. Classification Reportを作る\n",
    "    print(\"\\n--- Classification Report ---\")\n",
    "    \n",
    "    y_pred = pipe.predict(X_test)\n",
    "\n",
    "    class_labels = pipe.named_steps['classifier'].classes_\n",
    "\n",
    "    # classification_reportをプリント\n",
    "    print(classification_report(y_test, y_pred, labels=class_labels, target_names=[str(c) for c in class_labels]))\n",
    "\n",
    "\n",
    "    # 2.ROC AUC曲線を描く\n",
    "    print(\"\\n--- ROC AUC　---\")\n",
    "\n",
    "    y_score = pipe.predict_proba(X_test)\n",
    "    y_test_bin = label_binarize(y_test, classes=class_labels)\n",
    "\n",
    "    fpr, tpr, _ = roc_curve(y_test_bin.ravel(), y_score.ravel())\n",
    "    roc_auc = auc(fpr, tpr)\n",
    "    \n",
    "    plt.figure()\n",
    "    plt.plot(fpr, tpr, lw=2, \n",
    "             label=f'ROC curve (AUC = {roc_auc:.3f})')\n",
    "    plt.plot([0, 1], [0, 1], 'k--')\n",
    "    \n",
    "    plt.xlim([0.0, 1.0])\n",
    "    plt.ylim([0.0, 1.05])\n",
    "\n",
    "    plt.xlabel('FPR')\n",
    "    plt.ylabel('TPR')\n",
    "    plt.title(f'ROC Curve for Tenant {tenant_id}')\n",
    "    \n",
    "    plt.legend(loc=\"lower right\")\n",
    "    plt.grid()\n",
    "    plt.show()\n",
    "\n",
    "print(\"\\n finish\")"
   ]
  },
  {
   "cell_type": "code",
   "execution_count": null,
   "metadata": {},
   "outputs": [],
   "source": []
  }
 ],
 "metadata": {
  "colab": {
   "authorship_tag": "ABX9TyNQXE7CFTBWD6T1CJW1O6B/",
   "provenance": []
  },
  "kernelspec": {
   "display_name": "Python 3 (ipykernel)",
   "language": "python",
   "name": "python3"
  },
  "language_info": {
   "codemirror_mode": {
    "name": "ipython",
    "version": 3
   },
   "file_extension": ".py",
   "mimetype": "text/x-python",
   "name": "python",
   "nbconvert_exporter": "python",
   "pygments_lexer": "ipython3",
   "version": "3.11.4"
  }
 },
 "nbformat": 4,
 "nbformat_minor": 4
}
