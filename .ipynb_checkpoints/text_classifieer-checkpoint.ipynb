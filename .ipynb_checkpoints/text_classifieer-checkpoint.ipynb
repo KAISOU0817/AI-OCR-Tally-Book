{
 "cells": [
  {
   "cell_type": "markdown",
   "metadata": {
    "id": "47t44PdssMxa"
   },
   "source": [
    "# コード提出部分"
   ]
  },
  {
   "cell_type": "markdown",
   "metadata": {
    "id": "LL-X1glnPp2u"
   },
   "source": [
    "## 適宜必要なライブラリをinstallして importしてください"
   ]
  },
  {
   "cell_type": "code",
   "execution_count": 137,
   "metadata": {},
   "outputs": [],
   "source": [
    "import pandas as pd\n",
    "import numpy as np\n",
    "from sklearn.model_selection import train_test_split\n",
    "from sklearn.feature_extraction.text import TfidfVectorizer\n",
    "from janome.tokenizer import Tokenizer\n",
    "from sklearn.preprocessing import StandardScaler, OneHotEncoder\n",
    "from sklearn.compose import ColumnTransformer\n",
    "from sklearn.pipeline import Pipeline\n",
    "from sklearn.metrics import classification_report,roc_curve, auc\n",
    "import lightgbm as lgb\n",
    "import matplotlib.pyplot as plt"
   ]
  },
  {
   "cell_type": "code",
   "execution_count": 138,
   "metadata": {},
   "outputs": [],
   "source": [
    "requests_df = pd.read_csv(\"requests.csv\")\n",
    "expense_items_df = pd.read_csv(\"expense_account_items.csv\")\n",
    "ocr_results_df = pd.read_csv(\"ocr_results.csv\")"
   ]
  },
  {
   "cell_type": "code",
   "execution_count": 143,
   "metadata": {},
   "outputs": [],
   "source": [
    "merged = pd.merge(\n",
    "        requests_df,\n",
    "        ocr_results_df[['id', 'ocr_client_name', 'ocr_payment_amount', 'ocr_document_date']],\n",
    "        left_on='ocr_result_id',\n",
    "        right_on='id',\n",
    "        suffixes=('', '_ocr')\n",
    "    )"
   ]
  },
  {
   "cell_type": "code",
   "execution_count": 145,
   "metadata": {},
   "outputs": [],
   "source": [
    "df = pd.merge(\n",
    "        merged,\n",
    "        expense_items_df,\n",
    "        left_on='expense_account_item_id',\n",
    "        right_on='id',\n",
    "        suffixes=('', '_item')\n",
    "    )"
   ]
  },
  {
   "cell_type": "code",
   "execution_count": 147,
   "metadata": {},
   "outputs": [],
   "source": [
    "# 必要となる列を取りだし\n",
    "final_cols = [\n",
    "    'name',\n",
    "    'ocr_client_name',\n",
    "    'ocr_payment_amount',\n",
    "    'ocr_document_date',\n",
    "    'expense_account_item_id'\n",
    "    ]\n",
    "df = df[final_cols].copy()"
   ]
  },
  {
   "cell_type": "code",
   "execution_count": 148,
   "metadata": {},
   "outputs": [
    {
     "data": {
      "text/html": [
       "<div>\n",
       "<style scoped>\n",
       "    .dataframe tbody tr th:only-of-type {\n",
       "        vertical-align: middle;\n",
       "    }\n",
       "\n",
       "    .dataframe tbody tr th {\n",
       "        vertical-align: top;\n",
       "    }\n",
       "\n",
       "    .dataframe thead th {\n",
       "        text-align: right;\n",
       "    }\n",
       "</style>\n",
       "<table border=\"1\" class=\"dataframe\">\n",
       "  <thead>\n",
       "    <tr style=\"text-align: right;\">\n",
       "      <th></th>\n",
       "      <th>tenant_id</th>\n",
       "      <th>name</th>\n",
       "      <th>ocr_client_name</th>\n",
       "      <th>ocr_payment_amount</th>\n",
       "      <th>ocr_document_date</th>\n",
       "      <th>expense_account_item_id</th>\n",
       "    </tr>\n",
       "  </thead>\n",
       "  <tbody>\n",
       "    <tr>\n",
       "      <th>0</th>\n",
       "      <td>61b79418-aa3e-4032-8b1f-bee8166ff6f9</td>\n",
       "      <td>雑貨費用</td>\n",
       "      <td>バクラクストア築地店</td>\n",
       "      <td>550.0</td>\n",
       "      <td>2024-07-01</td>\n",
       "      <td>01JN39ZH1TKKNE09GR1D6S1J5K</td>\n",
       "    </tr>\n",
       "    <tr>\n",
       "      <th>1</th>\n",
       "      <td>61b79418-aa3e-4032-8b1f-bee8166ff6f9</td>\n",
       "      <td>雑貨費用</td>\n",
       "      <td>バクラクストア築地店</td>\n",
       "      <td>1420.0</td>\n",
       "      <td>2024-07-03</td>\n",
       "      <td>01JN39ZH1TKKNE09GR1D6S1J5K</td>\n",
       "    </tr>\n",
       "    <tr>\n",
       "      <th>2</th>\n",
       "      <td>61b79418-aa3e-4032-8b1f-bee8166ff6f9</td>\n",
       "      <td>雑貨費用</td>\n",
       "      <td>バクラクストア築地店</td>\n",
       "      <td>660.0</td>\n",
       "      <td>2024-07-02</td>\n",
       "      <td>01JN39ZH1TKKNE09GR1D6S1J5K</td>\n",
       "    </tr>\n",
       "    <tr>\n",
       "      <th>3</th>\n",
       "      <td>61b79418-aa3e-4032-8b1f-bee8166ff6f9</td>\n",
       "      <td>雑貨費用</td>\n",
       "      <td>ミネ医薬品株式会社</td>\n",
       "      <td>2252.0</td>\n",
       "      <td>2025-02-02</td>\n",
       "      <td>01JN39ZH1TKKNE09GR1D6S1J5K</td>\n",
       "    </tr>\n",
       "    <tr>\n",
       "      <th>4</th>\n",
       "      <td>61b79418-aa3e-4032-8b1f-bee8166ff6f9</td>\n",
       "      <td>雑貨費用</td>\n",
       "      <td>ew.note\\n</td>\n",
       "      <td>5880.0</td>\n",
       "      <td>2025-02-24</td>\n",
       "      <td>01JN39ZH1TKKNE09GR1D6S1J5K</td>\n",
       "    </tr>\n",
       "    <tr>\n",
       "      <th>5</th>\n",
       "      <td>61b79418-aa3e-4032-8b1f-bee8166ff6f9</td>\n",
       "      <td>雑貨費用</td>\n",
       "      <td>COVERCHORD Nakameguro\\n</td>\n",
       "      <td>22000.0</td>\n",
       "      <td>2025-01-26</td>\n",
       "      <td>01JN39ZH1TKKNE09GR1D6S1J5K</td>\n",
       "    </tr>\n",
       "    <tr>\n",
       "      <th>6</th>\n",
       "      <td>61b79418-aa3e-4032-8b1f-bee8166ff6f9</td>\n",
       "      <td>雑貨費用</td>\n",
       "      <td>④芦野温泉芦野温泉</td>\n",
       "      <td>230.0</td>\n",
       "      <td>2024-11-17</td>\n",
       "      <td>01JN39ZH1TKKNE09GR1D6S1J5K</td>\n",
       "    </tr>\n",
       "    <tr>\n",
       "      <th>7</th>\n",
       "      <td>61b79418-aa3e-4032-8b1f-bee8166ff6f9</td>\n",
       "      <td>雑貨費用</td>\n",
       "      <td>(株)ビックカメラ</td>\n",
       "      <td>2328.0</td>\n",
       "      <td>2025-01-19</td>\n",
       "      <td>01JN39ZH1TKKNE09GR1D6S1J5K</td>\n",
       "    </tr>\n",
       "    <tr>\n",
       "      <th>8</th>\n",
       "      <td>61b79418-aa3e-4032-8b1f-bee8166ff6f9</td>\n",
       "      <td>雑貨費用</td>\n",
       "      <td>FoodshowFUTAKO TAMAGAWA</td>\n",
       "      <td>1800.0</td>\n",
       "      <td>2024-12-29</td>\n",
       "      <td>01JN39ZH1TKKNE09GR1D6S1J5K</td>\n",
       "    </tr>\n",
       "    <tr>\n",
       "      <th>9</th>\n",
       "      <td>61b79418-aa3e-4032-8b1f-bee8166ff6f9</td>\n",
       "      <td>雑貨費用</td>\n",
       "      <td>株式会社オカダヤ</td>\n",
       "      <td>2922.0</td>\n",
       "      <td>2024-11-10</td>\n",
       "      <td>01JN39ZH1TKKNE09GR1D6S1J5K</td>\n",
       "    </tr>\n",
       "  </tbody>\n",
       "</table>\n",
       "</div>"
      ],
      "text/plain": [
       "                              tenant_id  name          ocr_client_name  \\\n",
       "0  61b79418-aa3e-4032-8b1f-bee8166ff6f9  雑貨費用               バクラクストア築地店   \n",
       "1  61b79418-aa3e-4032-8b1f-bee8166ff6f9  雑貨費用               バクラクストア築地店   \n",
       "2  61b79418-aa3e-4032-8b1f-bee8166ff6f9  雑貨費用               バクラクストア築地店   \n",
       "3  61b79418-aa3e-4032-8b1f-bee8166ff6f9  雑貨費用                ミネ医薬品株式会社   \n",
       "4  61b79418-aa3e-4032-8b1f-bee8166ff6f9  雑貨費用                ew.note\\n   \n",
       "5  61b79418-aa3e-4032-8b1f-bee8166ff6f9  雑貨費用  COVERCHORD Nakameguro\\n   \n",
       "6  61b79418-aa3e-4032-8b1f-bee8166ff6f9  雑貨費用                ④芦野温泉芦野温泉   \n",
       "7  61b79418-aa3e-4032-8b1f-bee8166ff6f9  雑貨費用                (株)ビックカメラ   \n",
       "8  61b79418-aa3e-4032-8b1f-bee8166ff6f9  雑貨費用  FoodshowFUTAKO TAMAGAWA   \n",
       "9  61b79418-aa3e-4032-8b1f-bee8166ff6f9  雑貨費用                 株式会社オカダヤ   \n",
       "\n",
       "   ocr_payment_amount ocr_document_date     expense_account_item_id  \n",
       "0               550.0        2024-07-01  01JN39ZH1TKKNE09GR1D6S1J5K  \n",
       "1              1420.0        2024-07-03  01JN39ZH1TKKNE09GR1D6S1J5K  \n",
       "2               660.0        2024-07-02  01JN39ZH1TKKNE09GR1D6S1J5K  \n",
       "3              2252.0        2025-02-02  01JN39ZH1TKKNE09GR1D6S1J5K  \n",
       "4              5880.0        2025-02-24  01JN39ZH1TKKNE09GR1D6S1J5K  \n",
       "5             22000.0        2025-01-26  01JN39ZH1TKKNE09GR1D6S1J5K  \n",
       "6               230.0        2024-11-17  01JN39ZH1TKKNE09GR1D6S1J5K  \n",
       "7              2328.0        2025-01-19  01JN39ZH1TKKNE09GR1D6S1J5K  \n",
       "8              1800.0        2024-12-29  01JN39ZH1TKKNE09GR1D6S1J5K  \n",
       "9              2922.0        2024-11-10  01JN39ZH1TKKNE09GR1D6S1J5K  "
      ]
     },
     "execution_count": 148,
     "metadata": {},
     "output_type": "execute_result"
    }
   ],
   "source": [
    "df.head(10)"
   ]
  },
  {
   "cell_type": "code",
   "execution_count": 149,
   "metadata": {
    "scrolled": true
   },
   "outputs": [
    {
     "name": "stdout",
     "output_type": "stream",
     "text": [
      "<class 'pandas.core.frame.DataFrame'>\n",
      "Int64Index: 798 entries, 0 to 797\n",
      "Data columns (total 6 columns):\n",
      " #   Column                   Non-Null Count  Dtype  \n",
      "---  ------                   --------------  -----  \n",
      " 0   tenant_id                798 non-null    object \n",
      " 1   name                     798 non-null    object \n",
      " 2   ocr_client_name          767 non-null    object \n",
      " 3   ocr_payment_amount       794 non-null    float64\n",
      " 4   ocr_document_date        786 non-null    object \n",
      " 5   expense_account_item_id  798 non-null    object \n",
      "dtypes: float64(1), object(5)\n",
      "memory usage: 43.6+ KB\n"
     ]
    }
   ],
   "source": [
    "df.info()"
   ]
  },
  {
   "cell_type": "code",
   "execution_count": 150,
   "metadata": {},
   "outputs": [],
   "source": [
    "# 欠損値のある行を削除\n",
    "df.dropna(subset=['ocr_document_date'], inplace=True)\n",
    "df.dropna(subset=['ocr_client_name'], inplace=True)"
   ]
  },
  {
   "cell_type": "code",
   "execution_count": 151,
   "metadata": {},
   "outputs": [],
   "source": [
    "#数値変換でよく使わあれる正規化というメソッドですが、今回の場合ocr_payment_amountは綺麗な数字になってるため不要\n",
    "# df['ocr_payment_amount'] = pd.to_numeric(\n",
    "#         df['ocr_payment_amount'].astype(str)\n",
    "#           .str.replace(r'[^0-9.]', '', regex=True),\n",
    "#         errors='coerce'\n",
    "#     )\n",
    "# df['ocr_payment_amount'] = df['ocr_payment_amount'].fillna(0)"
   ]
  },
  {
   "cell_type": "code",
   "execution_count": 152,
   "metadata": {},
   "outputs": [],
   "source": [
    "# 日付を何曜日何月分に変換\n",
    "df['ocr_document_date'] = pd.to_datetime(df['ocr_document_date'], errors='coerce')\n",
    "df['dayofweek'] = df['ocr_document_date'].dt.dayofweek\n",
    "df['month'] = df['ocr_document_date'].dt.month"
   ]
  },
  {
   "cell_type": "code",
   "execution_count": 153,
   "metadata": {},
   "outputs": [
    {
     "name": "stdout",
     "output_type": "stream",
     "text": [
      "<class 'pandas.core.frame.DataFrame'>\n",
      "Int64Index: 759 entries, 0 to 797\n",
      "Data columns (total 8 columns):\n",
      " #   Column                   Non-Null Count  Dtype         \n",
      "---  ------                   --------------  -----         \n",
      " 0   tenant_id                759 non-null    object        \n",
      " 1   name                     759 non-null    object        \n",
      " 2   ocr_client_name          759 non-null    object        \n",
      " 3   ocr_payment_amount       759 non-null    float64       \n",
      " 4   ocr_document_date        759 non-null    datetime64[ns]\n",
      " 5   expense_account_item_id  759 non-null    object        \n",
      " 6   dayofweek                759 non-null    int64         \n",
      " 7   month                    759 non-null    int64         \n",
      "dtypes: datetime64[ns](1), float64(1), int64(2), object(4)\n",
      "memory usage: 53.4+ KB\n"
     ]
    }
   ],
   "source": [
    "df.info()"
   ]
  },
  {
   "cell_type": "code",
   "execution_count": 154,
   "metadata": {},
   "outputs": [],
   "source": [
    "# 店舗名を単語ごとに区切る\n",
    "def tokenize_japanese(text):\n",
    "    return [token.surface for token in Tokenizer().tokenize(text)]"
   ]
  },
  {
   "cell_type": "code",
   "execution_count": 155,
   "metadata": {
    "scrolled": true
   },
   "outputs": [
    {
     "name": "stdout",
     "output_type": "stream",
     "text": [
      "start\n",
      "\n",
      " finish\n"
     ]
    }
   ],
   "source": [
    "trained_results = {}\n",
    "tenant_ids = df['tenant_id'].unique()\n",
    "\n",
    "print(\"start\")\n",
    "\n",
    "for tenant_id in tenant_ids:\n",
    "    preprocessor = ColumnTransformer(\n",
    "        transformers=[\n",
    "            ('text', TfidfVectorizer(\n",
    "                tokenizer=tokenize_japanese,\n",
    "                token_pattern=None,\n",
    "                ngram_range=(1, 2),\n",
    "                max_features=5000\n",
    "            ), 'ocr_client_name'),\n",
    "            ('numeric', StandardScaler(), ['ocr_payment_amount']),\n",
    "            ('datetime', OneHotEncoder(), ['dayofweek', 'month'])\n",
    "        ],\n",
    "        remainder='drop'\n",
    "            )\n",
    "    \n",
    "    sub_df = df[df['tenant_id'] == tenant_id].copy()\n",
    "\n",
    "    \n",
    "    X = sub_df[['ocr_client_name', 'ocr_payment_amount', 'dayofweek', 'month']]\n",
    "    y = sub_df['expense_account_item_id']\n",
    "    \n",
    "\n",
    "    X_train, X_test, y_train, y_test = train_test_split(X, y, test_size=0.2, random_state=42, stratify=y)\n",
    "\n",
    "\n",
    "    # モデルを作る\n",
    "    model = lgb.LGBMClassifier(\n",
    "        random_state=42,\n",
    "        learning_rate=0.05,\n",
    "        objective='multiclass',\n",
    "        min_child_samples=5,\n",
    "        min_split_gain=0.0\n",
    "        )\n",
    "    pipe = Pipeline([('preprocessor', preprocessor), ('classifier', model)])\n",
    "    pipe.fit(X_train, y_train)\n",
    "    \n",
    "    # 結果を入れ\n",
    "    trained_results[tenant_id] = {\n",
    "        'pipe': pipe,\n",
    "        'X_test': X_test,\n",
    "        'y_test': y_test,\n",
    "        'sub_df': sub_df\n",
    "        }\n",
    "\n",
    "print(\"\\n finish\")"
   ]
  },
  {
   "cell_type": "code",
   "execution_count": 156,
   "metadata": {
    "scrolled": false
   },
   "outputs": [
    {
     "name": "stdout",
     "output_type": "stream",
     "text": [
      "\n",
      " start\n",
      "\n",
      "Tenant ID: 61b79418-aa3e-4032-8b1f-bee8166ff6f9 \n",
      "\n",
      "--- Classification Report ---\n",
      "                            precision    recall  f1-score   support\n",
      "\n",
      "01JN39TXFENZ3F5Y7FECDYYA8F       1.00      0.94      0.97        16\n",
      "01JN39VFN2YY6Y21VAQFHCVCBR       0.98      1.00      0.99        46\n",
      "01JN39W8VVSEBGNBZD5TARX8JE       1.00      1.00      1.00         2\n",
      "01JN39WJ5578B3ZDQPXVCCKS5C       1.00      1.00      1.00        12\n",
      "01JN39ZH1TKKNE09GR1D6S1J5K       1.00      1.00      1.00        14\n",
      "01JN3B0KS0PC94QGC1XCYZ90HR       1.00      1.00      1.00        20\n",
      "01JN3B4RRYWP5BAGY59ZZDDRDZ       1.00      1.00      1.00         5\n",
      "\n",
      "                  accuracy                           0.99       115\n",
      "                 macro avg       1.00      0.99      0.99       115\n",
      "              weighted avg       0.99      0.99      0.99       115\n",
      "\n",
      "\n",
      "--- ROC AUC　---\n"
     ]
    },
    {
     "data": {
      "image/png": "[encoded data removed]",
      "text/plain": [
       "<Figure size 640x480 with 1 Axes>"
      ]
     },
     "metadata": {},
     "output_type": "display_data"
    },
    {
     "name": "stdout",
     "output_type": "stream",
     "text": [
      "\n",
      "Tenant ID: e227c55d-0a65-417e-8f88-30d667e636c0 \n",
      "\n",
      "--- Classification Report ---\n"
     ]
    },
    {
     "name": "stderr",
     "output_type": "stream",
     "text": [
      "/Users/yuhuaizong/anaconda3/lib/python3.11/site-packages/sklearn/metrics/_classification.py:1469: UndefinedMetricWarning: Precision and F-score are ill-defined and being set to 0.0 in labels with no predicted samples. Use `zero_division` parameter to control this behavior.\n",
      "  _warn_prf(average, modifier, msg_start, len(result))\n",
      "/Users/yuhuaizong/anaconda3/lib/python3.11/site-packages/sklearn/metrics/_classification.py:1469: UndefinedMetricWarning: Precision and F-score are ill-defined and being set to 0.0 in labels with no predicted samples. Use `zero_division` parameter to control this behavior.\n",
      "  _warn_prf(average, modifier, msg_start, len(result))\n",
      "/Users/yuhuaizong/anaconda3/lib/python3.11/site-packages/sklearn/metrics/_classification.py:1469: UndefinedMetricWarning: Precision and F-score are ill-defined and being set to 0.0 in labels with no predicted samples. Use `zero_division` parameter to control this behavior.\n",
      "  _warn_prf(average, modifier, msg_start, len(result))\n"
     ]
    },
    {
     "name": "stdout",
     "output_type": "stream",
     "text": [
      "                            precision    recall  f1-score   support\n",
      "\n",
      "01JRT2WSMV1MAH3C2XN798AN4A       0.67      0.80      0.73         5\n",
      "01JRT2WSMV1MAH3C2XNB0HBGSM       0.00      0.00      0.00         1\n",
      "01JRT2WSMV1MAH3C2XND78A2DB       0.00      0.00      0.00         1\n",
      "01JRT2WSMV1MAH3C2XNG70FFCQ       0.75      1.00      0.86         3\n",
      "01JRT2WSMWNB7PHMMWKD4S38AT       0.60      0.60      0.60         5\n",
      "01JRT2WSMWNB7PHMMWKHVJYTA0       1.00      1.00      1.00         1\n",
      "01JRT2WSMWNB7PHMMWKQNDY72D       1.00      1.00      1.00         2\n",
      "01JRT8X2NP8ZB4YPSD0C2NYB0Y       0.50      1.00      0.67         1\n",
      "01JRT9XKD8VH43C5BSCBWHY90G       1.00      0.75      0.86         8\n",
      "01JRTAGJKRPAEX5338Q1J0XCKY       1.00      0.50      0.67         2\n",
      "01JRTP13XPWCN9WNYN6HX5SF3B       1.00      1.00      1.00         1\n",
      "01JRX3054TYZQ34TTYF9QB70QX       0.67      0.67      0.67         6\n",
      "01JRX3ECZZRXQQYAP0MFST1P47       1.00      1.00      1.00         1\n",
      "\n",
      "                  accuracy                           0.73        37\n",
      "                 macro avg       0.71      0.72      0.70        37\n",
      "              weighted avg       0.76      0.73      0.73        37\n",
      "\n",
      "\n",
      "--- ROC AUC　---\n"
     ]
    },
    {
     "data": {
      "image/png": "[encoded data removed]",
      "text/plain": [
       "<Figure size 640x480 with 1 Axes>"
      ]
     },
     "metadata": {},
     "output_type": "display_data"
    },
    {
     "name": "stdout",
     "output_type": "stream",
     "text": [
      "\n",
      " finish\n"
     ]
    }
   ],
   "source": [
    "# 評価\n",
    "print(\"\\n start\")\n",
    "\n",
    "for tenant_id, results in trained_results.items():\n",
    "    print(f\"\\nTenant ID: {tenant_id} \")\n",
    "\n",
    "    \n",
    "    pipe   = results['pipe']\n",
    "    X_test = results['X_test']\n",
    "    y_test = results['y_test']\n",
    "    \n",
    "\n",
    "    # 1. Classification Reportを作る\n",
    "    print(\"\\n--- Classification Report ---\")\n",
    "    \n",
    "    y_pred = pipe.predict(X_test)\n",
    "\n",
    "    class_labels = pipe.named_steps['classifier'].classes_\n",
    "\n",
    "    # classification_reportをプリント\n",
    "    print(classification_report(y_test, y_pred, labels=class_labels, target_names=[str(c) for c in class_labels]))\n",
    "\n",
    "\n",
    "    # 2.ROC AUC曲線を描く\n",
    "    print(\"\\n--- ROC AUC　---\")\n",
    "\n",
    "    y_score = pipe.predict_proba(X_test)\n",
    "    y_test_bin = label_binarize(y_test, classes=class_labels)\n",
    "\n",
    "    fpr, tpr, _ = roc_curve(y_test_bin.ravel(), y_score.ravel())\n",
    "    roc_auc = auc(fpr, tpr)\n",
    "    \n",
    "    plt.figure()\n",
    "    plt.plot(fpr, tpr, lw=2, \n",
    "             label=f'ROC curve (AUC = {roc_auc:.3f})')\n",
    "    plt.plot([0, 1], [0, 1], 'k--')\n",
    "    \n",
    "    plt.xlim([0.0, 1.0])\n",
    "    plt.ylim([0.0, 1.05])\n",
    "\n",
    "    plt.xlabel('FPR')\n",
    "    plt.ylabel('TPR')\n",
    "    plt.title(f'ROC Curve for Tenant {tenant_id}')\n",
    "    \n",
    "    plt.legend(loc=\"lower right\")\n",
    "    plt.grid()\n",
    "    plt.show()\n",
    "\n",
    "print(\"\\n finish\")"
   ]
  },
  {
   "cell_type": "markdown",
   "metadata": {
    "id": "WGuQeoAryqPU"
   },
   "source": [
    "## 質問\n",
    "\n",
    "1. 今回実装した機械学習モデル・評価指標を選択した意図・仮説を教えてください。\n",
    "2. 今回実装するにあたって試行錯誤したこと、その中で発見があったことを教えてください。\n",
    "3. 今回実装したモデルをプロダクトに導入するときに、どのようなことを考慮すると良いでしょうか？どういう基準を達成したらプロダクトに導入して良いと判断できるかという観点は含めるようにしてください。\n",
    "4. 今回は二つのテナントを対象にモデルを作成していただきましたが、テナント数が数万になった時に、モデリング的に変わりそうな部分はありますか？ (実際、既にバクラクのお客様は15000社を超えています)\n",
    "5. 内訳のユニーク数が100以上などになるテナントが存在する、さらに日々増減していく可能性があるといったときにどのような課題が上がってきそうですか？\n",
    "6. 今回提供したデータ以外にこのようなデータがあれば、もっと精度が上げれそうといったアイディアがあれば教えてください。\n",
    "7. その他、課題に対しての疑問、質問などがあれば記載してください。"
   ]
  },
  {
   "cell_type": "markdown",
   "metadata": {},
   "source": [
    "## 1. モデル・評価指標を選択した意図・仮説\n",
    "### 選択モデル：LightGBM\n",
    "**選択意図:**\n",
    "\n",
    "- 高い予測性能: テキスト情報や金額、日付といった多様な特徴量から勘定科目を予測するタスクにおいて、勾配ブースティングは非常に高い性能を出すことが知られています。\n",
    "\n",
    "- 計算速度: LightGBMは他の勾配ブースティングライブラリ（例えば、XGBoost）と比較して、大規模なデータセットでも高速に学習・予測が可能です。\n",
    "- 特徴量の扱いやすさ: カテゴリカル特徴量をそのまま扱える機能があり、前処理の手間をある程度削減できます。\n",
    "\n",
    "**仮説**:\n",
    "\n",
    "- ocr結果の「ocr_client_name」といったテキスト情報が、勘定科目を特定する上で最も重要な手がかりになる」という仮説を立てました。\n",
    "- 加えて、「user_payment_amount」や「ocr_document_date」も、特定の経費（例えば、新幹線では1-2万円かかる、金曜日に懇親会、3月に頻繁に出張とか）を推測する上で補助的な情報として機能すると考えました。\n",
    "- これらの特徴量間の複雑な関係性を、木ベースのモデルであるLightGBMが効果的に学習できると仮説しました。\n",
    "\n",
    "\n",
    "**選択評価指標：F1-ScoreとROC AUC曲線** \n",
    "**選択意図:**\n",
    "- F1-scoreは、分類モデルの精度と再現率のバランスを評価する指標で、不均衡なデータに適しています。\n",
    "- ROC AUC曲線 は、さまざまな閾値におけるモデルの識別能力を示し、全体的な分類性能を評価します"
   ]
  },
  {
   "cell_type": "markdown",
   "metadata": {},
   "source": [
    "## 2,試行錯誤と発見\n",
    "\n",
    "1、データクレンジングの段階では、最初は欠損値のある行を手動で補完しようと考えました（例えば、user_payment_amountが書かれていない場合は0と入力するなど）。しかし、そのせいでモデルがエラーになったようだったので、最終的にはそういった行を削除することにした。\n",
    "\n",
    "2、最初はjanome.tokenizerというメソッドがあることが知らなくて、直接にTfidfVectorizerのデフォルトのトークン化を使ったが、それは英語専用で、日本語に対して相性が悪いようで、調べてみったらjanome.tokenizerという日本語専用のメソッドがあるとわかった。\n",
    "\n",
    "3、評価の部分、二番目のテナントに対して、赤い部分があったが、どうやら、一部の内訳idのデータ数が少なすぎたせいで、その行のスコアが全部0になった。\n"
   ]
  },
  {
   "cell_type": "markdown",
   "metadata": {},
   "source": [
    "## 3. プロダクト導入時に考慮すること、導入基準\n",
    "- 考慮すべきこと\n",
    "\n",
    "     - ユーザーが入力してから予測結果が返ってくるまでの時間は十分に短いか。リアルタイムでの入力補助を想定する場合、これは非常に重要です。\n",
    "\n",
    "    - モデルの予測精度が時間経過（新しい取引の増加、季節変動など）によって劣化していないか（モデルドリフト）を常に監視する仕組みが必要です。\n",
    "    - 再学習のパイプライン: 定期的に新しいデータでモデルを再学習し、デプロイするパイプラインを自動化することが望ましいです。\n",
    "\n",
    "\n",
    "    - なぜモデルがその勘定科目を予測したのか、根拠（例：「\"PC\"という単語に強く反応しました」）を提示できると、ユーザーの納得感が高まり、信頼に繋がります。\n",
    "\n",
    "- プロダクト導入の判断基準\n",
    "\n",
    "\n",
    "    - テストデータに対するF1スコアが 0.9以上 など、事前に定めた閾値を超えている。\n",
    "    - 推論速度が何ms以内など、事前に定めた商用レベルに足している\n"
   ]
  },
  {
   "cell_type": "markdown",
   "metadata": {},
   "source": [
    "## 4. テナント数が数万になった時のモデリング的変化\n",
    "アプローチとしては、単一の巨大モデル（Global Model）を用いる方法です。これは、全テナントのデータを一つにまとめて、巨大なモデルを一つ作成するアプローチであり、テナントIDを特徴量の一つとして加えます。利点としては、運用がシンプルであることに加え、データ量が少ないテナントでも他のテナントのデータから学習された一般的なパターン（例：「タクシー」->「旅費交通費」）の恩恵を受けることができる点が挙げられます。一方で課題としては、テナントごとの「癖」を捉えきれない可能性があること、また特定の巨大テナントのデータにモデルが引きずられてバイアスがかかる危険性があることが指摘されます。"
   ]
  },
  {
   "cell_type": "markdown",
   "metadata": {},
   "source": [
    "## 5. 内訳のユニーク数が100以上、かつ日々増減する場合の課題\n",
    "\n",
    "\n",
    "- 課題1：内訳カテゴリ数の多さにより、一部の希少な内訳科目のデータ不足\n",
    "\n",
    "\n",
    "- 課題2：日々増減する未知の「内訳」への対応\n",
    "\n",
    "    - 対策:\n",
    "        新しい「内訳」の情報をモデルに反映させるため、モデルの定期的な再学習が不可欠になります。これを自動化するパイプラインの構築が重要です。"
   ]
  },
  {
   "cell_type": "markdown",
   "metadata": {},
   "source": [
    "## 6.その他のアイデア\n",
    "- 追加したらいいかもしれないデータ：申請者の部署・役職情報。つまり、「誰が経費を申請したか」という情報も有用です。\n",
    "    例えば、営業部の社員からの申請 -> 「接待交際費」「旅費交通費」の可能性が高い。開発部の申請 -> 「消耗品費（PC関連）」「新聞図書費（技術書）」の可能性が高いです。\n",
    "\n",
    "- その他のモデルを適用：今回は元々、LightGBMをbaselineとしてBERTも利用・検証し、後者の方が性能がいいという状況があるかもしれません。従って、様々なモデルを使用し、この問題に対する最適なモデルを探した方がいいです。\n",
    "\n",
    "- 専用のAI Agentを作る：AI Agentとは既存のLLMのAPIを使って、特定の任務のためにファインチューニングし、精度がかなり高いです。また、RAGとかの技術と合わせて、精度がさらに向上できます。"
   ]
  },
  {
   "cell_type": "markdown",
   "metadata": {},
   "source": [
    "## 7.その他の質問\n",
    "- 今までのインターン生は、どんなモデルを使いましたか？また、効果が一番いいのはなんのモデルですか。\n",
    "\n",
    "-　実際の業務の中で、どのようなアプローチでこの課題を解決していますか。\n",
    "\n",
    "- 即戦力としてインターンを参加したいと思いますが、インターン開始前どんなスキル・知識を習得した方がいいですか。"
   ]
  },
  {
   "cell_type": "code",
   "execution_count": null,
   "metadata": {},
   "outputs": [],
   "source": []
  }
 ],
 "metadata": {
  "colab": {
   "authorship_tag": "ABX9TyNQXE7CFTBWD6T1CJW1O6B/",
   "provenance": []
  },
  "kernelspec": {
   "display_name": "Python 3 (ipykernel)",
   "language": "python",
   "name": "python3"
  },
  "language_info": {
   "codemirror_mode": {
    "name": "ipython",
    "version": 3
   },
   "file_extension": ".py",
   "mimetype": "text/x-python",
   "name": "python",
   "nbconvert_exporter": "python",
   "pygments_lexer": "ipython3",
   "version": "3.11.4"
  }
 },
 "nbformat": 4,
 "nbformat_minor": 4
}
